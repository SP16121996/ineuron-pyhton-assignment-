{
 "cells": [
  {
   "cell_type": "markdown",
   "metadata": {},
   "source": [
    "# Question 1\n",
    " Write a function so that the columns of the output matrix are powers of the input vector.\n",
    " The order of the powers is determined by the increasing boolean argument. Specifically, when increasing is False, the i-th output column is the input vector raised element-wise to the power of N - i - 1.\n",
    "\n",
    "HINT: Such a matrix with a geometric progression in each row is named for Alexandre- Theophile Vandermonde."
   ]
  },
  {
   "cell_type": "code",
   "execution_count": 1,
   "metadata": {},
   "outputs": [],
   "source": [
    "import numpy as np\n",
    "import pandas as pd"
   ]
  },
  {
   "cell_type": "code",
   "execution_count": 9,
   "metadata": {},
   "outputs": [
    {
     "name": "stdout",
     "output_type": "stream",
     "text": [
      "Number of elements in array:5\n",
      "4\n",
      "5\n",
      "6\n",
      "3\n",
      "5\n",
      "[4, 5, 6, 3, 5]\n"
     ]
    }
   ],
   "source": [
    "a=[]\n",
    "n=int(input(\"Number of elements in array:\"))\n",
    "for i in range(0,n):\n",
    "    l=int(input())\n",
    "    a.append(l)\n",
    "print(a)    "
   ]
  },
  {
   "cell_type": "code",
   "execution_count": 12,
   "metadata": {},
   "outputs": [],
   "source": [
    "def vandermonde(a,N):\n",
    "    OP=np.vander(np.array(a), N)\n",
    "    print (OP)"
   ]
  },
  {
   "cell_type": "code",
   "execution_count": 13,
   "metadata": {
    "scrolled": true
   },
   "outputs": [
    {
     "name": "stdout",
     "output_type": "stream",
     "text": [
      "[[ 64  16   4   1]\n",
      " [125  25   5   1]\n",
      " [216  36   6   1]\n",
      " [ 27   9   3   1]\n",
      " [125  25   5   1]]\n"
     ]
    }
   ],
   "source": [
    "vandermonde(a,4)"
   ]
  },
  {
   "cell_type": "markdown",
   "metadata": {},
   "source": [
    "# Problem Statement 2:"
   ]
  },
  {
   "cell_type": "markdown",
   "metadata": {},
   "source": [
    " Given a sequence of n values x1, x2, ..., xn and a window size k>0, the k-th moving average of\n",
    " the given sequence is defined as follows:\n",
    "The moving average sequence has n-k+1 elements as shown below.\n",
    " The moving averages with k=4 of a ten-value sequence (n=10) is shown below"
   ]
  },
  {
   "cell_type": "raw",
   "metadata": {},
   "source": [
    "i 1 2 3 4 5 6 7 8 9 10\n",
    " ===== == == == == == == == == == ==\n",
    " Input 10 20 30 40 50 60 70 80 90 100\n",
    " y1 25 = (10+20+30+40)/4\n",
    " y2 35 = (20+30+40+50)/4\n",
    " y3 45 = (30+40+50+60)/4\n",
    "y4 55 = (40+50+60+70)/4\n",
    " y5 65 = (50+60+70+80)/4\n",
    " y6 75 = (60+70+80+90)/4\n",
    " y7 85 = (70+80+90+100)/4\n",
    " Thus, the moving average sequence has n-k+1=10-4+1=7 values."
   ]
  },
  {
   "cell_type": "code",
   "execution_count": 16,
   "metadata": {},
   "outputs": [
    {
     "name": "stdout",
     "output_type": "stream",
     "text": [
      "[25.0, 35.0, 45.0, 55.0, 65.0, 75.0, 85.0]\n"
     ]
    }
   ],
   "source": [
    "def moving_window(seq, k):\n",
    "    final = []\n",
    "    for i in range(len(seq)-k+1):\n",
    "        final.append(np.round(np.mean([seq[i+m] for m in range(k)]), 2))\n",
    "    return final\n",
    "\n",
    "\n",
    "print(moving_window([10,20,30,40,50,60,70,80,90,100], 4))"
   ]
  }
 ],
 "metadata": {
  "kernelspec": {
   "display_name": "Python 3",
   "language": "python",
   "name": "python3"
  },
  "language_info": {
   "codemirror_mode": {
    "name": "ipython",
    "version": 3
   },
   "file_extension": ".py",
   "mimetype": "text/x-python",
   "name": "python",
   "nbconvert_exporter": "python",
   "pygments_lexer": "ipython3",
   "version": "3.8.5"
  }
 },
 "nbformat": 4,
 "nbformat_minor": 4
}
