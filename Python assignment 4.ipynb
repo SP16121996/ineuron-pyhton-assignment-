{
 "cells": [
  {
   "cell_type": "markdown",
   "metadata": {},
   "source": [
    "# Python Assignment 4\n",
    "Q1.1 Write a Python Program(with class concepts) to find the area of the triangle using the below formula.area = (s(s-a)(s-b)*(s-c)) ** 0.5 Function to take the length of the sides of triangle from user should be defined in the parentclass and function to calculate the area should be defined in subclass."
   ]
  },
  {
   "cell_type": "code",
   "execution_count": 1,
   "metadata": {},
   "outputs": [
    {
     "name": "stdout",
     "output_type": "stream",
     "text": [
      "Enter a length of side a:3\n",
      "Enter a length of side b:4\n",
      "Enter a length of side c:5\n",
      "Area of a triangle with given values by user: 6.0\n"
     ]
    }
   ],
   "source": [
    "class triangle_sides():\n",
    "    def __init__(self,value_a,value_b,value_c):\n",
    "        self.side_a=value_a\n",
    "        self.side_b=value_b\n",
    "        self.side_c=value_c\n",
    "    def area(self):\n",
    "        s=(self.side_a+self.side_b+self.side_c)/2\n",
    "        area=(s*(s-self.side_a)*(s-self.side_b)*(s-self.side_c))**0.5\n",
    "        return area\n",
    "    \n",
    "value_a=float(input(\"Enter a length of side a:\"))\n",
    "value_b=float(input(\"Enter a length of side b:\"))\n",
    "value_c=float(input(\"Enter a length of side c:\"))\n",
    "ans=triangle_sides(value_a,value_b,value_c)\n",
    "print('Area of a triangle with given values by user:',ans.area()) "
   ]
  },
  {
   "cell_type": "markdown",
   "metadata": {},
   "source": [
    "Q1.2 Write a function filter_long_words() that takes a list of words and an integer n and returns the list of words that are longer than n."
   ]
  },
  {
   "cell_type": "code",
   "execution_count": 20,
   "metadata": {},
   "outputs": [
    {
     "name": "stdout",
     "output_type": "stream",
     "text": [
      "Enter the value of n:9\n"
     ]
    },
    {
     "data": {
      "text/plain": [
       "['rahul dravid', 'harbhajan singh', 'virat kohli']"
      ]
     },
     "execution_count": 20,
     "metadata": {},
     "output_type": "execute_result"
    }
   ],
   "source": [
    "filter_list=[]\n",
    "def filter_long_words(given_list,n):\n",
    "    for i in given_list:\n",
    "        if len(i)>n:\n",
    "            filter_list.append(i)\n",
    "    return filter_list\n",
    "        \n",
    "n=int(input('Enter the value of n:'))    \n",
    "playing_XI=['sachin','sehwag','rahul dravid','harbhajan singh','sreesanth','MS dhoni','virat kohli','pappu','DK','djbravo']   \n",
    "filter_long_words(playing_XI,n)  "
   ]
  },
  {
   "cell_type": "markdown",
   "metadata": {},
   "source": [
    "Q2.1 Write a Python program using function concept that maps list of words into a list of integers representing the lengths of the corresponding words.Hint: If a list [ ab,cde,erty] is passed on to the python function output should come as [2,3,4] Here 2,3 and 4 are the lengths of the words in the list."
   ]
  },
  {
   "cell_type": "code",
   "execution_count": 23,
   "metadata": {},
   "outputs": [
    {
     "data": {
      "text/plain": [
       "[6, 6, 12, 15, 9, 8, 11, 5, 2, 7]"
      ]
     },
     "execution_count": 23,
     "metadata": {},
     "output_type": "execute_result"
    }
   ],
   "source": [
    "output_list=[]\n",
    "def display_length(given_list):\n",
    "    for i in given_list:\n",
    "        j=len(i)\n",
    "        output_list.append(j)\n",
    "    return output_list    \n",
    "playing_XI=['sachin','sehwag','rahul dravid','harbhajan singh','sreesanth','MS dhoni','virat kohli','pappu','DK','djbravo']   \n",
    "display_length(playing_XI)     "
   ]
  },
  {
   "cell_type": "markdown",
   "metadata": {},
   "source": [
    "Q2.2 Write a Python function which takes a character (i.e. a string of length 1) and returns True if it is a vowel, False otherwise."
   ]
  },
  {
   "cell_type": "code",
   "execution_count": 21,
   "metadata": {},
   "outputs": [
    {
     "name": "stdout",
     "output_type": "stream",
     "text": [
      "Enter the string of length 1:E\n"
     ]
    },
    {
     "data": {
      "text/plain": [
       "True"
      ]
     },
     "execution_count": 21,
     "metadata": {},
     "output_type": "execute_result"
    }
   ],
   "source": [
    "vowel_list=['a','e','i','o','u','A','E','I','O','U']\n",
    "character=str(input('Enter the string of length 1:'))\n",
    "def vowel_or_not(character):\n",
    "    if len(character)==1:\n",
    "        for c in character:\n",
    "            if c in vowel_list:\n",
    "                return True \n",
    "            else:\n",
    "                return False\n",
    "    else:\n",
    "        print('Type only a string with length 1')\n",
    "vowel_or_not(character)"
   ]
  }
 ],
 "metadata": {
  "kernelspec": {
   "display_name": "Python 3",
   "language": "python",
   "name": "python3"
  },
  "language_info": {
   "codemirror_mode": {
    "name": "ipython",
    "version": 3
   },
   "file_extension": ".py",
   "mimetype": "text/x-python",
   "name": "python",
   "nbconvert_exporter": "python",
   "pygments_lexer": "ipython3",
   "version": "3.8.5"
  }
 },
 "nbformat": 4,
 "nbformat_minor": 4
}
